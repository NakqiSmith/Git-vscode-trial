{
 "cells": [
  {
   "cell_type": "markdown",
   "metadata": {},
   "source": [
    "# Report & Coding Instruction Manual\n",
    "***\n",
    "## Project Explanation\n",
    "\n",
    "*This project is the automation of the reports dashboard for a business to get reports, transform the data, the creation of visual elements, and the delivery of those visual elements on a daily, weekly, monthly, quarterly, or yearly basis automatically.*\n",
    "\n",
    "**Things that are required for completion of the project:**\n",
    "\n",
    "1. Computer: A home base computer that will house all the necessary code, systems, reports, documents, etc.\n",
    "    * Preferrably a computer that has windows as it's operating system\n",
    "2. A cloud based system: Google Drive, OneDrive, Dropbox, etc.\n",
    "    * This is to have all your files backed up to the cloud and so you can access everything from another device if you need\n",
    "3. P.O.S. system or C.R.M. software that you can pull reports from or track sales\n",
    "    * Most crm's and pos systems have a reporting function where you can download and view reports \n",
    "    * For a simple P.O.S. system you should have access to sales, price of product/service, taxes that was payed, how the customer paid, what the customer paid for, and the customers basic info\n",
    "    * The above information is more than enough to create the necessary visual elements for a business\n",
    "\n",
    "*The next section will be the things that will have to be downloaded onto your home base computer* \n",
    "\n",
    "4. Python: Programming software that the project the computer will run to deliver the results of the project\n",
    "5. VScode: A coding editor to help edit, organize and run the code from Python\n",
    "6. Git/GitHub: An online cloud based system that will help track and store any changes that have been made to the codes and programs that have been created\n",
    "7. Anaconda: A package manager to help prevent dependencies with the codes, virtual environments and workflows.\n",
    "    * This has the Jupyter package as part of the download which is a documentation tool that allows coding, text and instructions to be organized in one place as well as being shared to others if needed.\n",
    "\n",
    "*Throughout the instructions there will be packages/libraries that will have to be downloaded on the computer for the project to work properly with the steps that follow*\n",
    "\n",
    "**All steps including how to download the above items will have a set of instructions from start to finish** \n"
   ]
  },
  {
   "cell_type": "markdown",
   "metadata": {},
   "source": []
  }
 ],
 "metadata": {
  "kernelspec": {
   "display_name": "Python 3",
   "language": "python",
   "name": "python3"
  },
  "language_info": {
   "codemirror_mode": {
    "name": "ipython",
    "version": 3
   },
   "file_extension": ".py",
   "mimetype": "text/x-python",
   "name": "python",
   "nbconvert_exporter": "python",
   "pygments_lexer": "ipython3",
   "version": "3.11.4"
  },
  "orig_nbformat": 4
 },
 "nbformat": 4,
 "nbformat_minor": 2
}
